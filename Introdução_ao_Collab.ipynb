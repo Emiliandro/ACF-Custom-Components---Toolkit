{
  "nbformat": 4,
  "nbformat_minor": 0,
  "metadata": {
    "colab": {
      "name": "Introdução ao Collab",
      "provenance": [],
      "toc_visible": true,
      "authorship_tag": "ABX9TyOv5/seG4BrXb306C2HyC+k",
      "include_colab_link": true
    },
    "kernelspec": {
      "name": "python3",
      "display_name": "Python 3"
    }
  },
  "cells": [
    {
      "cell_type": "markdown",
      "metadata": {
        "id": "view-in-github",
        "colab_type": "text"
      },
      "source": [
        "<a href=\"https://colab.research.google.com/github/Emiliandro/ACF-Custom-Components---Toolkit/blob/master/Introdu%C3%A7%C3%A3o_ao_Collab.ipynb\" target=\"_parent\"><img src=\"https://colab.research.google.com/assets/colab-badge.svg\" alt=\"Open In Colab\"/></a>"
      ]
    },
    {
      "cell_type": "markdown",
      "metadata": {
        "id": "BYBRowxpneZc",
        "colab_type": "text"
      },
      "source": [
        "#### Código"
      ]
    },
    {
      "cell_type": "code",
      "metadata": {
        "id": "hUnMv2f7eWgB",
        "colab_type": "code",
        "colab": {
          "base_uri": "https://localhost:8080/",
          "height": 34
        },
        "outputId": "b3f3af8c-cc49-4803-f63e-b00a1a69194a"
      },
      "source": [
        "import time\n",
        "print(time.ctime())"
      ],
      "execution_count": 8,
      "outputs": [
        {
          "output_type": "stream",
          "text": [
            "Sat Sep 19 13:36:17 2020\n"
          ],
          "name": "stdout"
        }
      ]
    },
    {
      "cell_type": "code",
      "metadata": {
        "id": "5W-JU6KYkvRI",
        "colab_type": "code",
        "colab": {
          "base_uri": "https://localhost:8080/",
          "height": 51
        },
        "outputId": "acf4c949-1987-49a1-ffd8-041279166ac4"
      },
      "source": [
        "print(time.ctime())\n",
        "time.sleep(5)\n",
        "## intervalo de 5 segundos\n",
        "## sleep utiliza-se de segundos\n",
        "print(time.ctime())"
      ],
      "execution_count": 9,
      "outputs": [
        {
          "output_type": "stream",
          "text": [
            "Sat Sep 19 13:36:17 2020\n",
            "Sat Sep 19 13:36:23 2020\n"
          ],
          "name": "stdout"
        }
      ]
    },
    {
      "cell_type": "markdown",
      "metadata": {
        "id": "v7G7TLNTnFJx",
        "colab_type": "text"
      },
      "source": [
        "#### Texto\n",
        "\n",
        "1. O texto pode ficar em **negrito**\n",
        "2. O texto também pode ficar em *itálico*\n",
        "3. Ou mesmo com a fonte ~alterada~\n"
      ]
    },
    {
      "cell_type": "markdown",
      "metadata": {
        "id": "oCX-NP4FpcpU",
        "colab_type": "text"
      },
      "source": [
        "#### Equação Matemática\n",
        "\n",
        "*mathpix.com (dica de exemplos)*\n",
        "\n",
        "**Exemplo 1**\n",
        "\n",
        "$\\sqrt{3x-1}+{1+x}^2$\n",
        "\n",
        "**Exemplo 2**\n",
        "\n",
        "$e^x=\\sum_{i=0}^\\infty\\frac{1}{i!}xî$\n",
        "\n",
        "\n",
        "\n"
      ]
    }
  ]
}